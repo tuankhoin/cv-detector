{
 "cells": [
  {
   "cell_type": "code",
   "execution_count": 1,
   "metadata": {},
   "outputs": [],
   "source": [
    "import requests\n",
    "import selenium\n",
    "import os\n",
    "import time\n",
    "import io\n",
    "from PIL import Image\n",
    "from selenium import webdriver\n",
    "from bs4 import BeautifulSoup\n",
    "import hashlib"
   ]
  },
  {
   "cell_type": "code",
   "execution_count": 2,
   "metadata": {},
   "outputs": [],
   "source": [
    "# setting directory for chromedriver\n",
    "DRIVER_PATH = \"./chromedriver\"\n",
    "wd = webdriver.Chrome(executable_path=DRIVER_PATH)"
   ]
  },
  {
   "cell_type": "code",
   "execution_count": 3,
   "metadata": {},
   "outputs": [],
   "source": [
    "wd.get('https://google.com')"
   ]
  },
  {
   "cell_type": "code",
   "execution_count": 4,
   "metadata": {},
   "outputs": [],
   "source": [
    "search_box = wd.find_element_by_css_selector('input.gLFyf')\n",
    "search_box.send_keys('masks on face')"
   ]
  },
  {
   "cell_type": "code",
   "execution_count": 5,
   "metadata": {},
   "outputs": [],
   "source": [
    "wd.quit()"
   ]
  },
  {
   "cell_type": "code",
   "execution_count": 6,
   "metadata": {},
   "outputs": [],
   "source": [
    "# fetch images by scrolling through results\n",
    "def fetch_image_urls(query:str, max_links_to_fetch:int, wd:webdriver, sleep_between_interactions:int=1):\n",
    "    def scroll_to_end(wd):\n",
    "        wd.execute_script(\"window.scrollTo(0, document.body.scrollHeight);\")\n",
    "        time.sleep(sleep_between_interactions)    \n",
    "    \n",
    "    # build the google query\n",
    "    search_url = \"https://www.google.com/search?safe=off&site=&tbm=isch&source=hp&q={q}&oq={q}&gs_l=img\"\n",
    "\n",
    "    # load page\n",
    "    wd.get(search_url.format(q=query))\n",
    "\n",
    "    image_urls = set()\n",
    "    image_count = 0\n",
    "    results_start = 0\n",
    "    while image_count < max_links_to_fetch:\n",
    "        scroll_to_end(wd)\n",
    "\n",
    "        # get all image thumbnail results\n",
    "        thumbnail_results = wd.find_elements_by_css_selector(\"img.Q4LuWd\")\n",
    "        number_results = len(thumbnail_results)\n",
    "        \n",
    "        print(f\"Found: {number_results} search results. Extracting links from {results_start}:{number_results}\")\n",
    "        \n",
    "        for img in thumbnail_results[results_start:number_results]:\n",
    "            # try to click every thumbnail such that we can get the real image behind it\n",
    "            try:\n",
    "                img.click()\n",
    "                time.sleep(sleep_between_interactions)\n",
    "            except Exception:\n",
    "                continue\n",
    "\n",
    "            # extract image urls    \n",
    "            actual_images = wd.find_elements_by_css_selector('img.n3VNCb')\n",
    "            for actual_image in actual_images:\n",
    "                if actual_image.get_attribute('src') and 'http' in actual_image.get_attribute('src'):\n",
    "                    image_urls.add(actual_image.get_attribute('src'))\n",
    "\n",
    "            image_count = len(image_urls)\n",
    "\n",
    "            if len(image_urls) >= max_links_to_fetch:\n",
    "                print(f\"Found: {len(image_urls)} image links, done!\")\n",
    "                break\n",
    "        else:\n",
    "            print(\"Found:\", len(image_urls), \"image links, looking for more ...\")\n",
    "            time.sleep(30)\n",
    "            return\n",
    "            load_more_button = wd.find_element_by_css_selector(\".mye4qd\")\n",
    "            if load_more_button:\n",
    "                wd.execute_script(\"document.querySelector('.mye4qd').click();\")\n",
    "\n",
    "        # move the result startpoint further down\n",
    "        results_start = len(thumbnail_results)\n",
    "\n",
    "    return image_urls"
   ]
  },
  {
   "cell_type": "code",
   "execution_count": 7,
   "metadata": {},
   "outputs": [],
   "source": [
    "# function for downloading the image and raise errors whenever necessary \n",
    "def persist_image(folder_path:str,url:str):\n",
    "    try:\n",
    "        image_content = requests.get(url).content\n",
    "\n",
    "    except Exception as e:\n",
    "        print(f\"ERROR - Could not download {url} - {e}\")\n",
    "\n",
    "    try:\n",
    "        image_file = io.BytesIO(image_content)\n",
    "        image = Image.open(image_file).convert('RGB')\n",
    "        file_path = os.path.join(folder_path,hashlib.sha1(image_content).hexdigest()[:10] + '.jpg')\n",
    "        with open(file_path, 'wb') as f:\n",
    "            image.save(f, \"JPEG\", quality=85)\n",
    "        print(f\"SUCCESS - saved {url} - as {file_path}\")\n",
    "    except Exception as e:\n",
    "        print(f\"ERROR - Could not save {url} - {e}\")"
   ]
  },
  {
   "cell_type": "code",
   "execution_count": 8,
   "metadata": {},
   "outputs": [],
   "source": [
    "# combining the previous two functions \n",
    "# google search and download \n",
    "\n",
    "def search_and_download(search_term:str,driver_path:str,target_path:str,number_images):\n",
    "    target_folder = os.path.join(target_path,'_'.join(search_term.lower().split(' ')))\n",
    "\n",
    "    if not os.path.exists(target_folder):\n",
    "        os.makedirs(target_folder)\n",
    "\n",
    "    with webdriver.Chrome(executable_path=driver_path) as wd:\n",
    "        res = fetch_image_urls(search_term, number_images, wd=wd, sleep_between_interactions=0.5)\n",
    "        \n",
    "    for elem in res:\n",
    "        persist_image(target_folder,elem)"
   ]
  },
  {
   "cell_type": "code",
   "execution_count": 11,
   "metadata": {},
   "outputs": [],
   "source": [
    "SEARCH_TERM_MASK = 'masks on face'\n",
    "SEARCH_TERM_MASKOFF_1 = 'portrait'\n",
    "\n",
    "TARGET_PATH = './images'\n"
   ]
  },
  {
   "cell_type": "code",
   "execution_count": 12,
   "metadata": {},
   "outputs": [
    {
     "name": "stdout",
     "output_type": "stream",
     "text": [
      "Found: 200 search results. Extracting links from 0:200\n",
      "Found: 10 image links, done!\n",
      "SUCCESS - saved https://images.squarespace-cdn.com/content/v1/57868893725e258ab3883472/1585973391951-ZXA7T36LILHGL92OONDK/ke17ZwdGBToddI8pDm48kGX3mPjCxRpnpZFLehGnHRF7gQa3H78H3Y0txjaiv_0fDoOvxcdMmMKkDsyUqMSsMWxHk725yiiHCCLfrh8O1z5QPOohDIaIeljMHgDF5CVlOqpeNLcJ80NK65_fV7S1UeXRcnltpXi7pYmG01K9Sxdr9jvdzJo9yQKZsg8lxCX0Dk-aW0WIdZ70CxZYZblwSA/DSC04504.jpg?format=2500w - as ./images/masks_on_face/010dafa0d1.jpg\n",
      "SUCCESS - saved https://www.headcovers.com/media/catalog/product/cache/ba642c93a0efc71830935b1d4e0de39d/f/a/face-masks-for-coronavirus-protecive-facemasks-pink-flowers.jpg - as ./images/masks_on_face/62b8fce1a4.jpg\n",
      "SUCCESS - saved https://apicms.thestar.com.my/uploads/images/2020/01/28/529574.jpg - as ./images/masks_on_face/0bd06910d6.jpg\n",
      "SUCCESS - saved https://i.guim.co.uk/img/media/6b887b1b3b5bdec0921e4ef28ade834e2327e2f7/0_0_2500_1500/master/2500.jpg?width=1200&height=630&quality=85&auto=format&fit=crop&overlay-align=bottom%2Cleft&overlay-width=100p&overlay-base64=L2ltZy9zdGF0aWMvb3ZlcmxheXMvdGctZGVmYXVsdC5wbmc&s=b2db3d300066bb5029049d2eba9755d0 - as ./images/masks_on_face/0ac0bea92a.jpg\n",
      "SUCCESS - saved https://media.allure.com/photos/5e7e3d5a761f3800083516b7/16:9/w_2560%2Cc_limit/woman%252520wearing%252520medical%252520mask.jpg - as ./images/masks_on_face/8a9ab19c0d.jpg\n",
      "SUCCESS - saved https://venturebeat.com/wp-content/uploads/2020/04/facial-recognition-face-mask.jpg?fit=1800%2C900&strip=all - as ./images/masks_on_face/870597dbf8.jpg\n",
      "SUCCESS - saved https://images.pigsback.com/images/megadeal/dm-logistics/mask19.jpg - as ./images/masks_on_face/40c565201c.jpg\n",
      "SUCCESS - saved https://www.essence.com/wp-content/uploads/2020/03/GettyImages-1203125679-1-1920x1080.jpg?width=1920&height=1080 - as ./images/masks_on_face/2d248d67c3.jpg\n",
      "SUCCESS - saved https://www.abc.net.au/cm/rimage/12118074-3x2-xlarge.jpg?v=2 - as ./images/masks_on_face/98338cff9b.jpg\n",
      "SUCCESS - saved https://i.insider.com/5e7cbed392e19157bd79c843?width=1000&format=jpeg - as ./images/masks_on_face/63172c9c33.jpg\n"
     ]
    }
   ],
   "source": [
    "# demo for 10 mask images\n",
    "search_and_download(\n",
    "    search_term = SEARCH_TERM_MASK,\n",
    "    driver_path = DRIVER_PATH,\n",
    "    target_path = TARGET_PATH,\n",
    "    number_images = 10\n",
    ")"
   ]
  },
  {
   "cell_type": "code",
   "execution_count": 13,
   "metadata": {},
   "outputs": [
    {
     "name": "stdout",
     "output_type": "stream",
     "text": [
      "Found: 200 search results. Extracting links from 0:200\n",
      "Found: 11 image links, done!\n",
      "SUCCESS - saved https://images.unsplash.com/photo-1527082395-e939b847da0d?ixlib=rb-1.2.1&ixid=eyJhcHBfaWQiOjEyMDd9&w=1000&q=80 - as ./images/portrait/8fce557b76.jpg\n",
      "SUCCESS - saved https://i.pinimg.com/originals/dd/59/4e/dd594e241abf617abed2b7d586c19ef9.jpg - as ./images/portrait/f7aba13d3e.jpg\n",
      "SUCCESS - saved https://i.pinimg.com/originals/03/33/21/033321112df5d5a0392082517cbe5143.jpg - as ./images/portrait/21e3b4fef5.jpg\n",
      "SUCCESS - saved https://encrypted-tbn0.gstatic.com/images?q=tbn%3AANd9GcR4Muui0K_Z5zZPReB1s04rLKY1otDBcUvsAq3knHP-1Y6BKrYy&usqp=CAU - as ./images/portrait/052a67584a.jpg\n",
      "SUCCESS - saved https://upload.wikimedia.org/wikipedia/commons/thumb/f/f5/Poster-sized_portrait_of_Barack_Obama.jpg/1200px-Poster-sized_portrait_of_Barack_Obama.jpg - as ./images/portrait/22e2a718f4.jpg\n",
      "SUCCESS - saved https://i0.wp.com/zsuttonphoto.com/wp-content/uploads/2019/11/Los-Angeles-Beauty-Photography-19.jpg?fit=3000%2C3750&ssl=1 - as ./images/portrait/1ef4bb85c5.jpg\n",
      "SUCCESS - saved https://cdnb.artstation.com/p/assets/images/images/001/863/575/medium/irakli-nadar-artstation-da.jpg?1453903033 - as ./images/portrait/2317a6093d.jpg\n",
      "SUCCESS - saved https://images.unsplash.com/photo-1500648767791-00dcc994a43e?ixlib=rb-1.2.1&ixid=eyJhcHBfaWQiOjEyMDd9&w=1000&q=80 - as ./images/portrait/6b681c0773.jpg\n",
      "SUCCESS - saved https://img.freepik.com/free-photo/portrait-white-man-isolated_53876-40306.jpg?size=626&ext=jpg - as ./images/portrait/4bcd3362ae.jpg\n",
      "SUCCESS - saved https://mymodernmet.com/wp/wp-content/uploads/2019/07/ai-portraits-celebrities-keanu-reeves.jpg - as ./images/portrait/86f8dda7f1.jpg\n",
      "SUCCESS - saved https://upload.wikimedia.org/wikipedia/commons/thumb/b/bf/Mona_Lisa-restored.jpg/1200px-Mona_Lisa-restored.jpg - as ./images/portrait/4971bcbe9d.jpg\n"
     ]
    }
   ],
   "source": [
    "# demo for 10 images without mask\n",
    "search_and_download(\n",
    "    search_term = SEARCH_TERM_MASKOFF_1,\n",
    "    driver_path = DRIVER_PATH,\n",
    "    target_path = TARGET_PATH,\n",
    "    number_images = 10\n",
    ")"
   ]
  }
 ],
 "metadata": {
  "kernelspec": {
   "display_name": "Python 3",
   "language": "python",
   "name": "python3"
  },
  "language_info": {
   "codemirror_mode": {
    "name": "ipython",
    "version": 3
   },
   "file_extension": ".py",
   "mimetype": "text/x-python",
   "name": "python",
   "nbconvert_exporter": "python",
   "pygments_lexer": "ipython3",
   "version": "3.7.3"
  }
 },
 "nbformat": 4,
 "nbformat_minor": 2
}
